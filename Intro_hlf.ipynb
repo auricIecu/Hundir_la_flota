{
 "cells": [
  {
   "cell_type": "markdown",
   "metadata": {},
   "source": [
    "![imagen](./img/hundir-la-flota-juego-de-mesa.jpg)"
   ]
  },
  {
   "cell_type": "markdown",
   "metadata": {},
   "source": [
    "En esta entrega vas a crear tu propio juego de **Hundir la flota** en Python. \n",
    "[Aquí](http://es.battleship-game.org/) podrás probarlo online."
   ]
  },
  {
   "attachments": {},
   "cell_type": "markdown",
   "metadata": {},
   "source": [
    "### En clase\n",
    "1. Crea la función `crear_tablero(tamaño)`, un tablero por defecto de 10x10 relleno del carácter \"_\" con numpy.\n",
    "2. Crea la función `colocar_barco(barco, tablero)`, que recibirá la lista de casillas de un barco y el tablero donde colocarlo. Prueba primero a posicionar un par de barcos por ejemplo en [(0,1), (1,1)] y [(1,3), (1,4), (1,5), (1,6)]. Los barcos serán Os mayúsculas. Como ves, un barco de dos posiciones de eslora y otro de cuatro.\n",
    "3. Crea la función `disparar(casilla, tablero)`, si el disparo acierta en un barco sustituye la O por una X (tocado), si es agua, sustituye la _ por una A (Agua). Prueba primero a disparar el barco de 2 casillas.\n",
    "4. Crea la función `crear_barco(eslora)`, que deberá crear una lista de casillas de un barco en función a la eslora, de forma aleatoria.\n",
    "\n",
    "### Proyecto individual\n",
    "1. Crea la función `colocar_barcos(tablero)`, que deberá de colocar la lista de barcos generados de forma aleatoria (6 barcos en total (3 barcos de eslora 2, 2 de eslora 3 y 1 eslora 4)) ¡Mucho ojo con barcos que estén superpuestos (no pueden ocupar dos barcos la misma casilla) o barcos que se salgan del tablero!\n",
    "2. Escribe el flujo completo del programa, con la dinámica de turnos y funcionalidades necesarios para jugar contra la máquina (dispara a tu tablero de forma aleatoria). Crea todas las funciones que necesites y aplica todo lo aprendido que te sea útil.\n",
    "3. Encapsula todo en un `main.py` y un `utils.py` para ejecutarlo desde terminal.\n",
    "4. Sube tu proyecto a un repositorio de github y prepara una demo (solo se podrá enseñar desde terminal) para la presentación de tu proyecto."
   ]
  },
  {
   "cell_type": "markdown",
   "metadata": {},
   "source": [
    "## Presentación\n",
    "Cada uno realizará una presentación el **lunes 17 de marzo**, donde se contarán con **10 minutos máximo**, importante ceñirse al tiempo. Se tendrá que enseñar:\n",
    "1. El git clone del repositorio de github a tu ordenador y explicar las partes más relevantes del código.\n",
    "2. Una demo donde se muestre el correcto funcionamiento del código para jugar, ejecutándose desde terminal.\n",
    "3. Explicación de la lógica de las partes más relevantes del código desarrollado."
   ]
  },
  {
   "cell_type": "code",
   "execution_count": null,
   "metadata": {},
   "outputs": [],
   "source": [
    "# !pip install numpy"
   ]
  },
  {
   "cell_type": "code",
   "execution_count": 2,
   "metadata": {},
   "outputs": [],
   "source": [
    "# Nos sirve para hacer arrays de dos dimensiones\n",
    "\n",
    "import numpy as np"
   ]
  },
  {
   "cell_type": "code",
   "execution_count": 3,
   "metadata": {},
   "outputs": [
    {
     "data": {
      "text/plain": [
       "array([['_', '_', '_', '_', '_', '_', '_', '_', '_', '_'],\n",
       "       ['_', '_', '_', '_', '_', '_', '_', '_', '_', '_'],\n",
       "       ['_', '_', '_', '_', '_', '_', '_', '_', '_', '_'],\n",
       "       ['_', '_', '_', '_', '_', '_', '_', '_', '_', '_'],\n",
       "       ['_', '_', '_', '_', '_', '_', '_', '_', '_', '_'],\n",
       "       ['_', '_', '_', '_', '_', '_', '_', '_', '_', '_'],\n",
       "       ['_', '_', '_', '_', '_', '_', '_', '_', '_', '_'],\n",
       "       ['_', '_', '_', '_', '_', '_', '_', '_', '_', '_'],\n",
       "       ['_', '_', '_', '_', '_', '_', '_', '_', '_', '_'],\n",
       "       ['_', '_', '_', '_', '_', '_', '_', '_', '_', '_']], dtype='<U1')"
      ]
     },
     "execution_count": 3,
     "metadata": {},
     "output_type": "execute_result"
    }
   ],
   "source": [
    "np.full((10,10), '_')"
   ]
  },
  {
   "cell_type": "code",
   "execution_count": 4,
   "metadata": {},
   "outputs": [],
   "source": [
    "# 1\n",
    "\n",
    "def crear_tablero(tamaño=(10,10)):\n",
    "    return np.full(tamaño, '_')"
   ]
  },
  {
   "cell_type": "code",
   "execution_count": 5,
   "metadata": {},
   "outputs": [
    {
     "name": "stdout",
     "output_type": "stream",
     "text": [
      "[['_' '_' '_' '_' '_' '_' '_' '_' '_' '_']\n",
      " ['_' '_' '_' '_' '_' '_' '_' '_' '_' '_']\n",
      " ['_' '_' '_' '_' '_' '_' '_' '_' '_' '_']\n",
      " ['_' '_' '_' '_' '_' '_' '_' '_' '_' '_']\n",
      " ['_' '_' '_' '_' '_' '_' '_' '_' '_' '_']\n",
      " ['_' '_' '_' '_' '_' '_' '_' '_' '_' '_']\n",
      " ['_' '_' '_' '_' '_' '_' '_' '_' '_' '_']\n",
      " ['_' '_' '_' '_' '_' '_' '_' '_' '_' '_']\n",
      " ['_' '_' '_' '_' '_' '_' '_' '_' '_' '_']\n",
      " ['_' '_' '_' '_' '_' '_' '_' '_' '_' '_']]\n"
     ]
    }
   ],
   "source": [
    "tablero = crear_tablero()\n",
    "print(tablero)"
   ]
  },
  {
   "cell_type": "code",
   "execution_count": 9,
   "metadata": {},
   "outputs": [
    {
     "name": "stdout",
     "output_type": "stream",
     "text": [
      "[['B' '_' '_' '_' '_' '_' '_' '_' '_' '_']\n",
      " ['_' '_' '_' '_' '_' '_' '_' '_' '_' '_']\n",
      " ['_' '_' '_' '_' '_' '_' '_' '_' '_' '_']\n",
      " ['_' '_' '_' '_' '_' '_' '_' '_' '_' '_']\n",
      " ['_' '_' '_' '_' '_' '_' '_' '_' '_' '_']\n",
      " ['_' '_' '_' '_' '_' '_' '_' '_' '_' '_']\n",
      " ['_' '_' '_' '_' '_' '_' '_' '_' '_' '_']\n",
      " ['_' '_' '_' '_' '_' '_' '_' '_' '_' '_']\n",
      " ['_' '_' '_' '_' '_' '_' '_' '_' '_' '_']\n",
      " ['_' '_' '_' '_' '_' '_' '_' '_' '_' '_']]\n"
     ]
    }
   ],
   "source": [
    "# 2: Colocar barco\n",
    "\n",
    "# Varias formas de hacer lo mismo\n",
    "\n",
    "tablero[0][0] = \"B\"\n",
    "tablero[0,0] = \"B\"\n",
    "tablero[(0,0)] = \"B\"\n",
    "print(tablero)\n"
   ]
  },
  {
   "cell_type": "code",
   "execution_count": 6,
   "metadata": {},
   "outputs": [
    {
     "name": "stdout",
     "output_type": "stream",
     "text": [
      "[['_' 'O' '_' '_' '_' '_' '_' '_' '_' '_']\n",
      " ['_' 'O' '_' 'O' 'O' 'O' 'O' '_' '_' '_']\n",
      " ['_' '_' '_' '_' '_' '_' '_' '_' '_' '_']\n",
      " ['_' '_' '_' '_' '_' '_' '_' '_' '_' '_']\n",
      " ['_' '_' '_' '_' '_' '_' '_' '_' '_' '_']\n",
      " ['_' '_' '_' '_' '_' '_' '_' '_' '_' '_']\n",
      " ['_' '_' '_' '_' '_' '_' '_' '_' '_' '_']\n",
      " ['_' '_' '_' '_' '_' '_' '_' '_' '_' '_']\n",
      " ['_' '_' '_' '_' '_' '_' '_' '_' '_' '_']\n",
      " ['_' '_' '_' '_' '_' '_' '_' '_' '_' '_']]\n"
     ]
    }
   ],
   "source": [
    "tablero = crear_tablero()\n",
    "barco_1 = [(0,1), (1,1)]\n",
    "\n",
    "for casilla in barco_1:\n",
    "    tablero[casilla] = \"O\"\n",
    "\n",
    "barco_2 = [(1,3), (1,4), (1,5), (1,6)]\n",
    "for casilla in barco_2:\n",
    "    tablero[casilla] = \"O\"\n",
    "\n",
    "print(tablero)"
   ]
  },
  {
   "cell_type": "code",
   "execution_count": 16,
   "metadata": {},
   "outputs": [],
   "source": [
    "# Funcion final\n",
    "\n",
    "def colocar_barco(barco, tablero):\n",
    "    for casilla in barco:\n",
    "        tablero[casilla] = \"O\"\n",
    "    return tablero"
   ]
  },
  {
   "cell_type": "code",
   "execution_count": 19,
   "metadata": {},
   "outputs": [
    {
     "name": "stdout",
     "output_type": "stream",
     "text": [
      "[['_' 'O' '_' '_' '_' '_' '_' '_' '_' '_']\n",
      " ['_' 'O' '_' 'O' 'O' 'O' 'O' '_' '_' '_']\n",
      " ['_' '_' '_' '_' '_' '_' '_' '_' '_' '_']\n",
      " ['_' '_' '_' '_' '_' '_' '_' '_' '_' '_']\n",
      " ['_' '_' '_' '_' '_' '_' '_' '_' '_' '_']\n",
      " ['_' '_' '_' '_' '_' '_' '_' '_' '_' '_']\n",
      " ['_' '_' '_' '_' '_' '_' '_' '_' '_' '_']\n",
      " ['_' '_' '_' '_' '_' '_' '_' '_' '_' '_']\n",
      " ['_' '_' '_' '_' '_' '_' '_' '_' '_' '_']\n",
      " ['_' '_' '_' '_' '_' '_' '_' '_' '_' '_']]\n"
     ]
    }
   ],
   "source": [
    "# Flujo principal\n",
    "\n",
    "tablero = crear_tablero()\n",
    "\n",
    "barco_1 = [(0,1), (1,1)]\n",
    "barco_2 = [(1,3), (1,4), (1,5), (1,6)]\n",
    "\n",
    "tablero = colocar_barco(barco_1, tablero)\n",
    "tablero = colocar_barco(barco_2, tablero)\n",
    "\n",
    "print(tablero)"
   ]
  },
  {
   "cell_type": "code",
   "execution_count": 21,
   "metadata": {},
   "outputs": [
    {
     "name": "stdout",
     "output_type": "stream",
     "text": [
      "Fallaste\n",
      "[['_' 'O' '_' '_' '_' '_' '_' '_' '_' '_']\n",
      " ['_' 'O' '_' 'O' 'O' 'O' 'O' '_' '_' '_']\n",
      " ['_' 'A' '_' '_' '_' '_' '_' '_' '_' '_']\n",
      " ['_' '_' '_' '_' '_' '_' '_' '_' '_' '_']\n",
      " ['_' '_' '_' '_' '_' '_' '_' '_' '_' '_']\n",
      " ['_' '_' '_' '_' '_' '_' '_' '_' '_' '_']\n",
      " ['_' '_' '_' '_' '_' '_' '_' '_' '_' '_']\n",
      " ['_' '_' '_' '_' '_' '_' '_' '_' '_' '_']\n",
      " ['_' '_' '_' '_' '_' '_' '_' '_' '_' '_']\n",
      " ['_' '_' '_' '_' '_' '_' '_' '_' '_' '_']]\n"
     ]
    }
   ],
   "source": [
    "# 3 Funcion disparar\n",
    "\n",
    "if tablero[(2,1)] == \"O\":\n",
    "    print(\"Acertaste\")\n",
    "    tablero[(2,1)] = \"X\"\n",
    "else:\n",
    "    print(\"Fallaste\")\n",
    "    tablero[(2,1)]  = \"A\"\n",
    "print(tablero)"
   ]
  },
  {
   "cell_type": "code",
   "execution_count": 23,
   "metadata": {},
   "outputs": [],
   "source": [
    "\n",
    "# Funcion final disparo\n",
    "\n",
    "def disparar(casilla, tablero):\n",
    "    if tablero[casilla] == \"O\":\n",
    "        print(\"Acertaste\")\n",
    "        tablero[casilla] = \"X\"\n",
    "    else:\n",
    "        print(\"Fallaste\")\n",
    "        tablero[casilla]  = \"A\"\n",
    "    return tablero"
   ]
  },
  {
   "cell_type": "code",
   "execution_count": 24,
   "metadata": {},
   "outputs": [
    {
     "name": "stdout",
     "output_type": "stream",
     "text": [
      "Fallaste\n",
      "Acertaste\n",
      "[['_' 'O' '_' '_' '_' '_' '_' '_' '_' '_']\n",
      " ['_' 'O' '_' 'O' 'X' 'O' 'O' '_' '_' '_']\n",
      " ['_' '_' '_' '_' '_' '_' '_' '_' '_' '_']\n",
      " ['_' '_' '_' '_' '_' '_' 'A' '_' '_' '_']\n",
      " ['_' '_' '_' '_' '_' '_' '_' '_' '_' '_']\n",
      " ['_' '_' '_' '_' '_' '_' '_' '_' '_' '_']\n",
      " ['_' '_' '_' '_' '_' '_' '_' '_' '_' '_']\n",
      " ['_' '_' '_' '_' '_' '_' '_' '_' '_' '_']\n",
      " ['_' '_' '_' '_' '_' '_' '_' '_' '_' '_']\n",
      " ['_' '_' '_' '_' '_' '_' '_' '_' '_' '_']]\n"
     ]
    }
   ],
   "source": [
    "# Flujo final\n",
    "\n",
    "tablero = crear_tablero()\n",
    "\n",
    "barco_1 = [(0,1), (1,1)]\n",
    "barco_2 = [(1,3), (1,4), (1,5), (1,6)]\n",
    "\n",
    "tablero = colocar_barco(barco_1, tablero)\n",
    "tablero = colocar_barco(barco_2, tablero)\n",
    "\n",
    "tablero = disparar((3,6), tablero)\n",
    "tablero = disparar((1,4), tablero)\n",
    "\n",
    "print(tablero)"
   ]
  },
  {
   "cell_type": "code",
   "execution_count": 26,
   "metadata": {},
   "outputs": [
    {
     "name": "stdout",
     "output_type": "stream",
     "text": [
      "[(3, 3), (3, 4)]\n"
     ]
    }
   ],
   "source": [
    "# Crear barco de forma aleatoria\n",
    "\n",
    "import random\n",
    "fila = random.randint(0,9)\n",
    "columna = random.randint(0,9)\n",
    "orientacion = random.choice([\"Horizontal\", \"Vertical\"])\n",
    "barco_aleatorio = [(fila, columna)]\n",
    "\n",
    "if orientacion == \"Horizontal\":\n",
    "    barco_aleatorio.append((fila, columna + 1))\n",
    "else:\n",
    "    barco_aleatorio.append((fila + 1, columna))\n",
    "\n",
    "print(barco_aleatorio)"
   ]
  },
  {
   "cell_type": "code",
   "execution_count": 27,
   "metadata": {},
   "outputs": [],
   "source": [
    "# Funcion final\n",
    "\n",
    "def crear_barco_aleatorio(eslora):\n",
    "    fila = random.randint(0,9)\n",
    "    columna = random.randint(0,9)\n",
    "    barco_aleatorio = [(fila, columna)]\n",
    "\n",
    "    orientacion = random.choice([\"Horizontal\", \"Vertical\"])\n",
    "    while len(barco_aleatorio) < eslora:\n",
    "        if orientacion == \"Horizontal\":\n",
    "            columna = columna + 1\n",
    "            barco_aleatorio.append((fila, columna))\n",
    "        else:\n",
    "            fila = fila + 1\n",
    "            barco_aleatorio.append((fila, columna))\n",
    "    return barco_aleatorio"
   ]
  },
  {
   "cell_type": "code",
   "execution_count": 28,
   "metadata": {},
   "outputs": [
    {
     "data": {
      "text/plain": [
       "[(7, 7), (8, 7), (9, 7), (10, 7)]"
      ]
     },
     "execution_count": 28,
     "metadata": {},
     "output_type": "execute_result"
    }
   ],
   "source": [
    "crear_barco_aleatorio(4)"
   ]
  },
  {
   "cell_type": "code",
   "execution_count": 32,
   "metadata": {},
   "outputs": [
    {
     "name": "stdout",
     "output_type": "stream",
     "text": [
      "Fallaste\n",
      "Acertaste\n",
      "[['_' 'O' '_' '_' '_' '_' '_' '_' '_' '_']\n",
      " ['_' 'O' '_' 'O' 'X' 'O' 'O' 'O' '_' '_']\n",
      " ['_' '_' '_' '_' '_' '_' '_' '_' '_' '_']\n",
      " ['_' '_' '_' '_' '_' '_' 'A' '_' '_' '_']\n",
      " ['_' '_' '_' '_' '_' '_' '_' '_' '_' '_']\n",
      " ['_' '_' '_' '_' '_' '_' '_' '_' '_' '_']\n",
      " ['_' '_' '_' '_' '_' '_' '_' '_' '_' '_']\n",
      " ['_' '_' '_' '_' '_' '_' '_' '_' '_' '_']\n",
      " ['_' '_' '_' '_' '_' '_' '_' '_' '_' '_']\n",
      " ['_' '_' '_' '_' '_' '_' '_' '_' '_' '_']]\n"
     ]
    }
   ],
   "source": [
    "tablero = crear_tablero()\n",
    "\n",
    "barco_1 = [(0,1), (1,1)]\n",
    "barco_2 = [(1,3), (1,4), (1,5), (1,6)]\n",
    "barco_3 = crear_barco_aleatorio(3)\n",
    "\n",
    "tablero = colocar_barco(barco_1, tablero)\n",
    "tablero = colocar_barco(barco_2, tablero)\n",
    "tablero = colocar_barco(barco_3, tablero)\n",
    "\n",
    "tablero = disparar((3,6), tablero)\n",
    "tablero = disparar((1,4), tablero)\n",
    "\n",
    "print(tablero)"
   ]
  },
  {
   "cell_type": "code",
   "execution_count": null,
   "metadata": {},
   "outputs": [],
   "source": []
  }
 ],
 "metadata": {
  "kernelspec": {
   "display_name": "Python 3",
   "language": "python",
   "name": "python3"
  },
  "language_info": {
   "codemirror_mode": {
    "name": "ipython",
    "version": 3
   },
   "file_extension": ".py",
   "mimetype": "text/x-python",
   "name": "python",
   "nbconvert_exporter": "python",
   "pygments_lexer": "ipython3",
   "version": "3.13.2"
  },
  "orig_nbformat": 4
 },
 "nbformat": 4,
 "nbformat_minor": 2
}
