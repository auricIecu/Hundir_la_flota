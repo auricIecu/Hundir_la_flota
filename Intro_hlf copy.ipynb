{
 "cells": [
  {
   "cell_type": "markdown",
   "metadata": {},
   "source": [
    "![imagen](./img/hundir-la-flota-juego-de-mesa.jpg)"
   ]
  },
  {
   "cell_type": "markdown",
   "metadata": {},
   "source": [
    "En esta entrega vas a crear tu propio juego de **Hundir la flota** en Python. \n",
    "[Aquí](http://es.battleship-game.org/) podrás probarlo online."
   ]
  },
  {
   "attachments": {},
   "cell_type": "markdown",
   "metadata": {},
   "source": [
    "### En clase\n",
    "1. Crea la función `crear_tablero(tamaño)`, un tablero por defecto de 10x10 relleno del carácter \"_\" con numpy.\n",
    "2. Crea la función `colocar_barco(barco, tablero)`, que recibirá la lista de casillas de un barco y el tablero donde colocarlo. Prueba primero a posicionar un par de barcos por ejemplo en [(0,1), (1,1)] y [(1,3), (1,4), (1,5), (1,6)]. Los barcos serán Os mayúsculas. Como ves, un barco de dos posiciones de eslora y otro de cuatro.\n",
    "3. Crea la función `disparar(casilla, tablero)`, si el disparo acierta en un barco sustituye la O por una X (tocado), si es agua, sustituye la _ por una A (Agua). Prueba primero a disparar el barco de 2 casillas.\n",
    "4. Crea la función `crear_barco(eslora)`, que deberá crear una lista de casillas de un barco en función a la eslora, de forma aleatoria.\n",
    "\n",
    "### Proyecto individual\n",
    "1. Crea la función `colocar_barcos(tablero)`, que deberá de colocar la lista de barcos generados de forma aleatoria (6 barcos en total (3 barcos de eslora 2, 2 de eslora 3 y 1 eslora 4)) ¡Mucho ojo con barcos que estén superpuestos (no pueden ocupar dos barcos la misma casilla) o barcos que se salgan del tablero!\n",
    "2. Escribe el flujo completo del programa, con la dinámica de turnos y funcionalidades necesarios para jugar contra la máquina (dispara a tu tablero de forma aleatoria). Crea todas las funciones que necesites y aplica todo lo aprendido que te sea útil.\n",
    "3. Encapsula todo en un `main.py` y un `utils.py` para ejecutarlo desde terminal.\n",
    "4. Sube tu proyecto a un repositorio de github y prepara una demo (solo se podrá enseñar desde terminal) para la presentación de tu proyecto."
   ]
  },
  {
   "cell_type": "markdown",
   "metadata": {},
   "source": [
    "## Presentación\n",
    "Cada uno realizará una presentación el **lunes 17 de marzo**, donde se contarán con **10 minutos máximo**, importante ceñirse al tiempo. Se tendrá que enseñar:\n",
    "1. El git clone del repositorio de github a tu ordenador y explicar las partes más relevantes del código.\n",
    "2. Una demo donde se muestre el correcto funcionamiento del código para jugar, ejecutándose desde terminal.\n",
    "3. Explicación de la lógica de las partes más relevantes del código desarrollado."
   ]
  },
  {
   "cell_type": "code",
   "execution_count": null,
   "metadata": {},
   "outputs": [],
   "source": [
    "# !pip install numpy"
   ]
  },
  {
   "cell_type": "code",
   "execution_count": 349,
   "metadata": {},
   "outputs": [],
   "source": [
    "# Traremos numpy para poder trabajar con arreglos numericos o matrices\n",
    "\n",
    "import numpy as np\n",
    "import random"
   ]
  },
  {
   "cell_type": "code",
   "execution_count": 482,
   "metadata": {},
   "outputs": [],
   "source": [
    "#Creamos la clase tablero, con un parametro fijo de tamano (10, 10) y le agregamos un metodo crear_tablero\n",
    "\n",
    "class Tablero:\n",
    "    def __init__(self, tamano=(10, 10)):\n",
    "        self.tamano = tamano\n",
    "        self.grid = np.full(tamano, '_')\n",
    "        self.disparos_realizados = []  # Lista para almacenar las casillas disparadas\n",
    "\n",
    "    def mostrar_tablero(self):\n",
    "        print(self.grid)\n",
    "\n",
    "    def disparo(self, casilla):\n",
    "        fila, columna = casilla\n",
    "        # Verificar límites\n",
    "        if fila >= self.tamano[0] or columna >= self.tamano[1]:\n",
    "            raise ValueError(\"Disparo fuera del tablero\")\n",
    "        # Verificar si ya se disparó aquí\n",
    "        if casilla in self.disparos_realizados:\n",
    "            print(\"Ya disparaste aquí\")\n",
    "            return self\n",
    "        # Registrar el disparo\n",
    "        self.disparos_realizados.append(casilla)\n",
    "        # Procesar el disparo\n",
    "        if self.grid[fila, columna] == 'O':\n",
    "            print(\"Acertaste\")\n",
    "            self.grid[fila, columna] = 'X'\n",
    "        elif self.grid[fila, columna] == '_':\n",
    "            print(\"Fallaste\")\n",
    "            self.grid[fila, columna] = 'A'\n",
    "        return self\n",
    "    \n",
    "\n"
   ]
  },
  {
   "cell_type": "code",
   "execution_count": 468,
   "metadata": {},
   "outputs": [],
   "source": [
    "# class Barco\n",
    "\n",
    "class Barco:\n",
    "    def __init__(self, posiciones):\n",
    "        self.posiciones = posiciones\n",
    "\n",
    "    def colocar_barco(self, tablero):\n",
    "        for fila, columna in self.posiciones:\n",
    "        # Eliminamos el if, y dejamos solo la colocacion del barco, asumiendo que las posiciones ya son validas\n",
    "            tablero.grid[fila, columna] = 'O'\n",
    "        return tablero\n",
    "    \n",
    "    @staticmethod\n",
    "    def crear_barco_aleatorio(eslora, tablero):\n",
    "        while True:\n",
    "            orientacion = random.choice([\"Horizontal\", \"Vertical\"])\n",
    "            if orientacion == \"Horizontal\":\n",
    "                fila = random.randint(0, tablero.tamano[0] - 1)\n",
    "                columna_inicial = random.randint(0, tablero.tamano[1] - eslora)\n",
    "            else:\n",
    "                fila_inicial = random.randint(0, tablero.tamano[0] - eslora)\n",
    "                columna = random.randint(0, tablero.tamano[1] - 1)\n",
    "\n",
    "            barco_aleatorio = []\n",
    "            for i in range(eslora):\n",
    "                if orientacion == \"Horizontal\":\n",
    "                    casilla = (fila, columna_inicial + i)\n",
    "                else:\n",
    "                    casilla = (fila_inicial + i, columna)\n",
    "                \n",
    "                # Verificar antes de añadir\n",
    "                fila_casilla, columna_casilla = casilla\n",
    "                if tablero.grid[fila_casilla, columna_casilla] != '_':\n",
    "                    break  # Si está ocupada, salimos del for y probamos otra vez\n",
    "                barco_aleatorio.append(casilla)\n",
    "            else:  # Se ejecuta si el for termina sin break\n",
    "                return barco_aleatorio  # Todas las posiciones estaban libres"
   ]
  },
  {
   "cell_type": "code",
   "execution_count": 485,
   "metadata": {},
   "outputs": [],
   "source": [
    "# Funcion independeinte para colocar una flota aleatoria en un tablero\n",
    "\n",
    "def colocar_flota_aleatoria(tablero, flota):\n",
    "    for eslora, cantidad in flota:\n",
    "        for i in range(cantidad):\n",
    "            barco = Barco(Barco.crear_barco_aleatorio(eslora, tablero))\n",
    "            tablero = barco.colocar_barco(tablero)\n",
    "    return tablero\n",
    "\n"
   ]
  },
  {
   "cell_type": "code",
   "execution_count": 486,
   "metadata": {},
   "outputs": [
    {
     "name": "stdout",
     "output_type": "stream",
     "text": [
      "¡Bienvenido a Hundir la Flota!\n",
      "¡Hola, C! Preparando los tableros...\n",
      "\n",
      "Tu tablero, C:\n",
      "[['_' '_' '_' '_' '_' 'O' '_' 'O' 'O' 'O']\n",
      " ['_' 'O' '_' '_' '_' 'O' '_' '_' '_' 'O']\n",
      " ['_' 'O' '_' '_' '_' 'O' '_' '_' '_' 'O']\n",
      " ['_' 'O' '_' '_' '_' '_' '_' '_' '_' 'O']\n",
      " ['_' 'O' 'O' '_' '_' '_' '_' '_' '_' '_']\n",
      " ['_' '_' '_' '_' '_' '_' '_' '_' '_' '_']\n",
      " ['_' '_' '_' '_' '_' '_' '_' '_' '_' '_']\n",
      " ['_' '_' '_' '_' '_' '_' '_' '_' '_' '_']\n",
      " ['_' '_' '_' '_' '_' '_' 'O' 'O' '_' '_']\n",
      " ['_' '_' '_' '_' '_' '_' '_' '_' '_' '_']]\n",
      "\n",
      "El tablero de la computadora está listo, pero no lo verás todavía.\n"
     ]
    }
   ],
   "source": [
    "# Flujo del juego\n",
    "\n",
    "# Flota estándar para el juego\n",
    "flota = [\n",
    "    (4, 1),  # 1 barco de eslora 4\n",
    "    (3, 2),  # 2 barcos de eslora 3\n",
    "    (2, 3),  # 3 barcos de eslora 2\n",
    "]\n",
    "\n",
    "# Flujo inicial del programa\n",
    "print(\"¡Bienvenido a Hundir la Flota!\")\n",
    "nombre_jugador = input(\"Por favor, ingresa tu nombre: \")\n",
    "print(f\"¡Hola, {nombre_jugador}! Preparando los tableros...\")\n",
    "\n",
    "# Crear tableros\n",
    "tablero_jugador = Tablero()  # Visible para el jugador\n",
    "tablero_computadora = Tablero()  # No visible para el jugador\n",
    "\n",
    "# Colocar barcos aleatorios en ambos tableros\n",
    "tablero_jugador = colocar_flota_aleatoria(tablero_jugador, flota)\n",
    "tablero_computadora = colocar_flota_aleatoria(tablero_computadora, flota)\n",
    "\n",
    "# Mostrar solo el tablero del jugador\n",
    "print(f\"\\nTu tablero, {nombre_jugador}:\")\n",
    "tablero_jugador.mostrar_tablero()\n",
    "print(\"\\nEl tablero de la computadora está listo, pero no lo verás todavía.\")\n",
    "# No mostramos tablero_computadora para mantenerlo oculto"
   ]
  },
  {
   "cell_type": "code",
   "execution_count": null,
   "metadata": {},
   "outputs": [],
   "source": []
  }
 ],
 "metadata": {
  "kernelspec": {
   "display_name": "Python 3",
   "language": "python",
   "name": "python3"
  },
  "language_info": {
   "codemirror_mode": {
    "name": "ipython",
    "version": 3
   },
   "file_extension": ".py",
   "mimetype": "text/x-python",
   "name": "python",
   "nbconvert_exporter": "python",
   "pygments_lexer": "ipython3",
   "version": "3.13.2"
  },
  "orig_nbformat": 4
 },
 "nbformat": 4,
 "nbformat_minor": 2
}
